{
 "cells": [
  {
   "cell_type": "code",
   "execution_count": 1,
   "metadata": {},
   "outputs": [],
   "source": [
    "import json\n",
    "import re\n",
    "import numpy as np"
   ]
  },
  {
   "cell_type": "code",
   "execution_count": 2,
   "metadata": {},
   "outputs": [],
   "source": [
    "def StateFileProcessing(State_File,Smooth):\n",
    "    with open (State_File,'r') as file:\n",
    "        N = int(file.readline())\n",
    "        stateSet = {}\n",
    "        matrixA = np.zeros((N, N))\n",
    "        pi = [0 for i in range(N)]\n",
    "        \n",
    "        ID = 0\n",
    "        while ID < N:\n",
    "            stateName = file.readline().strip()\n",
    "            stateSet[stateName] = ID\n",
    "            ID += 1\n",
    "            \n",
    "        while True:\n",
    "            line = file.readline()\n",
    "            if not line:\n",
    "                break\n",
    "            items = line.split()\n",
    "            \n",
    "            statePrev = int(items[0])\n",
    "            stateNext = int(items[1])\n",
    "            frequency = int(items[2])\n",
    "            \n",
    "            matrixA[statePrev][stateNext] = frequency\n",
    "\n",
    "        for i in range(0, N):\n",
    "            if i == stateSet['END']:\n",
    "                continue\n",
    "            total = matrixA[i].sum()\n",
    "            for j in range(0, N):\n",
    "                if j == stateSet['BEGIN']:\n",
    "                    continue\n",
    "                matrixA[i][j] = (matrixA[i][j] + Smooth) / (total + (N - 1) * Smooth)\n",
    "                \n",
    "        #### PI的赋值\n",
    "        for i in range(N):\n",
    "            pi[i] = matrixA[stateSet['BEGIN']][i]        \n",
    "            \n",
    "    file.close()\n",
    "    return N, stateSet, matrixA, pi"
   ]
  },
  {
   "cell_type": "code",
   "execution_count": 3,
   "metadata": {},
   "outputs": [],
   "source": [
    "def SymbolFileProcessing(Symbol_File, Smooth):\n",
    "    with open(Symbol_File,'r') as file:\n",
    "        M = int(file.readline())\n",
    "        symbolSet = {}\n",
    "        matrixB = np.zeros((M+2, M+1))\n",
    "\n",
    "        ID = 0\n",
    "        while ID < M:\n",
    "            symbol = file.readline().strip()\n",
    "            symbolSet[symbol] = ID\n",
    "            ID += 1\n",
    "        symbolSet[\"UNK\"] = ID\n",
    "        \n",
    "        while True:\n",
    "            line = file.readline()\n",
    "            if not line:\n",
    "                break\n",
    "            items = line.split()\n",
    "            \n",
    "            state = int(items[0])\n",
    "            symbol = int(items[1])\n",
    "            frequency = int(items[2])\n",
    "            \n",
    "            matrixB[state][symbol] = frequency\n",
    "            \n",
    "        for i in range(0, M):\n",
    "            total = matrixB[i].sum()\n",
    "            for j in range(0, M+1):\n",
    "                if j == ID or matrixB[i][j] == 0:\n",
    "                    matrixB[i][j] = 1 / (total + M + 1)\n",
    "                else:\n",
    "                    matrixB[i][j] = (matrixB[i][j] + (1 * Smooth)) / (total + M * Smooth + 1)\n",
    "        \n",
    "    file.close()\n",
    "    return symbolSet, matrixB"
   ]
  },
  {
   "cell_type": "code",
   "execution_count": 4,
   "metadata": {},
   "outputs": [],
   "source": [
    "def query_to_token(line, symbolSet): \n",
    "    tokens = re.findall(r\"[A-Za-z0-9.]+|[,|\\.|/|;|\\'|`|\\[|\\]|<|>|\\?|:|\\\"|\\{|\\}|\\~|!|@|#|\\$|%|\\^|&|\\(|\\)|\\-|=|\\_|\\+]\", line)\n",
    "    Obs = [0 for i in range(len(tokens))]\n",
    "    for i in range(len(tokens)):\n",
    "        if tokens[i] in symbolSet.keys():\n",
    "            Obs[i] = symbolSet[tokens[i]]\n",
    "        else:\n",
    "            Obs[i] = symbolSet[\"UNK\"]\n",
    "    return Obs"
   ]
  },
  {
   "cell_type": "code",
   "execution_count": 5,
   "metadata": {},
   "outputs": [],
   "source": [
    "def viterbi(N,Obs,PI,A,B):\n",
    "    path = []\n",
    "    T = len(Obs)\n",
    "    delta = np.zeros((N, T))\n",
    "    record = np.zeros((N, T), int)\n",
    "    \n",
    "    delta[:, 0] = PI * B[:, Obs[0]]\n",
    "    \n",
    "    #### 明天看看这里 还有前面的PI赋值\n",
    "    end = [0 for i in range(N)]\n",
    "    for i in range(N):\n",
    "        end[i] = A[i][-1]\n",
    "    \n",
    "    for ts in range(1, T):       #  timeStamp\n",
    "        for sn in range(N):      #  stateNext\n",
    "            for sp in range(N):  #  statePrev\n",
    "                prob = delta[sp][ts-1] * A[sp][sn] * B[sn][Obs[ts]]\n",
    "                if prob > delta[sn][ts]:\n",
    "                    delta[sn][ts] = prob\n",
    "                    record[sn][ts] = sp\n",
    "    \n",
    "    maxProb = 0\n",
    "    maxIndex = 0\n",
    "    for index in range(len(delta)):\n",
    "        if delta[index][-1] > maxProb:\n",
    "            #### 最后要乘stateEnd的概率，每个s转移到end的概率都不一样\n",
    "            #### 同理，begin也是，begin到每个s的概率都不一样\n",
    "            #### 最后输出概率应该是结合begin end 的概率的乘积才对\n",
    "            maxProb = delta[index][-1] * end[index]\n",
    "            maxIndex = index\n",
    "    \n",
    "    #  backtracking\n",
    "    path = [maxIndex]\n",
    "    col = -1\n",
    "    while True:\n",
    "        if T <= -col:\n",
    "            break\n",
    "        maxState = record[maxIndex][col]\n",
    "        maxIndex = maxState\n",
    "        path.append(maxState)\n",
    "        col -= 1\n",
    "    path = list(reversed(path))\n",
    "    path.append(np.log(maxProb))\n",
    "    \n",
    "    return path"
   ]
  },
  {
   "cell_type": "code",
   "execution_count": 6,
   "metadata": {},
   "outputs": [],
   "source": [
    "def viterbi_algorithm(State_File, Symbol_File, Query_File):\n",
    "    N, stateSet, A, PI = StateFileProcessing(State_File,Smooth=1)\n",
    "    symbolSet, B = SymbolFileProcessing(Symbol_File, Smooth=1)\n",
    "    \n",
    "    results = []\n",
    "    with open(Query_File, 'r') as file:\n",
    "        while True:\n",
    "            line = file.readline()\n",
    "            if not line:\n",
    "                break\n",
    "            \n",
    "            Obs = query_to_token(line, symbolSet)\n",
    "            result = viterbi(N,Obs,PI,A,B)\n",
    "            result.insert(0, stateSet[\"BEGIN\"])\n",
    "            result.insert(-2, stateSet[\"END\"])\n",
    "            results.append(result)\n",
    "    file.close()\n",
    "    return results"
   ]
  },
  {
   "cell_type": "code",
   "execution_count": 7,
   "metadata": {
    "scrolled": true
   },
   "outputs": [
    {
     "data": {
      "text/plain": [
       "[[3, 0, 0, 1, 4, 2, -9.843403381747937], [3, 2, 1, 4, 2, -9.397116279119517]]"
      ]
     },
     "execution_count": 7,
     "metadata": {},
     "output_type": "execute_result"
    }
   ],
   "source": [
    "State_File ='./toy_example/State_File'\n",
    "Symbol_File='./toy_example/Symbol_File'\n",
    "Query_File ='./toy_example/Query_File'\n",
    "viterbi_algorithm(State_File, Symbol_File, Query_File)"
   ]
  },
  {
   "cell_type": "code",
   "execution_count": null,
   "metadata": {},
   "outputs": [],
   "source": []
  }
 ],
 "metadata": {
  "kernelspec": {
   "display_name": "Python 3",
   "language": "python",
   "name": "python3"
  },
  "language_info": {
   "codemirror_mode": {
    "name": "ipython",
    "version": 3
   },
   "file_extension": ".py",
   "mimetype": "text/x-python",
   "name": "python",
   "nbconvert_exporter": "python",
   "pygments_lexer": "ipython3",
   "version": "3.7.2"
  }
 },
 "nbformat": 4,
 "nbformat_minor": 2
}
